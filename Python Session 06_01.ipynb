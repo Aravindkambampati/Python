{
 "cells": [
  {
   "cell_type": "markdown",
   "metadata": {},
   "source": [
    "**Closing and Opening Files**\n",
    "\n",
    "+ Python, along with associated packages, supports a number of formats for file reading and writing. \n",
    "+ The file types supported are txt, csv, tsv, xls, xlsx, doc, docx, dat, output, sql (and some specialized formats such as R, .dta, sas7bdat)\n",
    "+ Here, we will cover some of the options and will look at the rest in session on pandas.\n",
    "+ In order to open a file, use open() method specifying file name and mode of opening (read, write, append, etc)\n",
    "+ Open returns a file handle \n",
    "+ handle = open(filename, mode)\n",
    "+ Once work is done, it is always better to close the file otherwise other programs might not be able to access the file.\n",
    "+ File closing is done using close() method"
   ]
  },
  {
   "cell_type": "code",
   "execution_count": null,
   "metadata": {},
   "outputs": [],
   "source": [
    "# how you make your Python Code Executable ?\n",
    "\n",
    "\n",
    "#binary_search.py \n",
    "\n",
    "#HashBang   or # Shebang \n",
    "\n",
    "\n",
    "#Starting line in Python Line ?\n",
    "\n",
    "#first line \n",
    "#!/usr/bin/env python3\n",
    "\n",
    "# Import required packages \n",
    "import pandas as py (pseudo name)\n",
    "import numpy \n",
    "import math\n",
    "import datetime as dt\n",
    "\n",
    "Select all the which are apt for this ? \n",
    "# ease of use                       - d \n",
    "# code readan=bility \n",
    "# to avoid coding conflicts (to prevent naming conflicts)   - l \n",
    "# understanding                     - d \n",
    "\n",
    "\n",
    "import pandas \n",
    "\n",
    "df1 = pandas.read_csv(file_path, )\n",
    "\n",
    "import pandas as pd --> all functions   pd.join \n",
    "from pandas import read_csv,write_tocsv, join  --> needed info -> read_csv into namspace \n",
    "#avoiding the overlaod of the python name sapce \n",
    "\n",
    "# Namespace \n",
    "read_csv\n",
    "sin\n",
    "mod \n",
    "cos - numpy and math \n",
    "\n",
    "\n",
    "\n",
    "\n",
    "\n",
    "# decalring variable \n",
    "# define functions \n",
    "\n",
    "\n",
    "\n",
    "\n",
    "___main____\n",
    "\n",
    "   a = function1(z,y)\n",
    "   b = func2(h,l)\n",
    "   \n",
    "\n",
    "\n",
    "#chmod in Linux ?\n",
    "\n",
    "\n",
    "binary_search.py   \n",
    "\n",
    "chmod +x /user/driive/binary_search.py   \n",
    "\n",
    "./binary_search.py  \n",
    "\n",
    "\n",
    "\n",
    "\n",
    "# \n"
   ]
  },
  {
   "cell_type": "code",
   "execution_count": 74,
   "metadata": {},
   "outputs": [
    {
     "name": "stdout",
     "output_type": "stream",
     "text": [
      "a is min\n"
     ]
    }
   ],
   "source": [
    "#Teneray operation in python \n",
    "\n",
    "a = 3\n",
    "b = 5\n",
    "\n",
    "min = \"a is min\" if a<b else \"b is min\" \n",
    "\n",
    "print(min)"
   ]
  },
  {
   "cell_type": "code",
   "execution_count": 78,
   "metadata": {},
   "outputs": [
    {
     "name": "stdout",
     "output_type": "stream",
     "text": [
      "9\n"
     ]
    }
   ],
   "source": [
    "a = 7\n",
    "\n",
    "b = 9 if a<10 else 6\n",
    "\n",
    "print(b)"
   ]
  },
  {
   "cell_type": "code",
   "execution_count": null,
   "metadata": {},
   "outputs": [],
   "source": [
    "# Think of use case where you need to use dictionary \n",
    "\n",
    "1. Krish - json format files using dictionary \n",
    "2. Asique - any firware files needs to get loaded from external source \n",
    "3. Rohit - players profile  ( 'rohit':[1,3,4,5],...) \n",
    "4. Lakshmi - cust info \n",
    "5. Sai har - web application (Config files) ***** \n",
    "6. Srina - \n",
    "7. DIvya - web application \n",
    "8. Prana - to access the (no clarity) \n",
    "9. Vijay - web \n",
    "10. Bhav - user info \n",
    "11. Arv - \n",
    "12. Sunil - \n",
    "13. KC - \n",
    "14. Sahana - cust and loan info \n",
    "15. Sravani - user info \n",
    "16. Sreelakshmi - id's as key "
   ]
  },
  {
   "cell_type": "code",
   "execution_count": null,
   "metadata": {},
   "outputs": [],
   "source": [
    "# Config Files \n",
    "\n",
    "- Host , User, PWD - DB Connection \n",
    "\n",
    "- Multiple (ETL Jobs)\n",
    "\n",
    "- ETL : \n",
    "\n",
    "  cutstomer_info: \n",
    "  Destination Path : path2\n",
    "  Source path :\n",
    "  Tbale name : \n",
    "  Mode : read\n",
    "\n",
    "  Transaction:\n",
    "  Destination Path :\n",
    "  Source path :\n",
    "  Tbale name : \n",
    "  Mode : append\n",
    "\n",
    "\n",
    "100 files \n",
    "\n",
    "Program - 5 file info \n",
    "Program 2 - 10 files info \n",
    "\n",
    "\n",
    "- API \n",
    "  Versions \n",
    "  ENd Points \n",
    "  \n",
    "- Server Config \n",
    "\n",
    "- Cloud Connectivity \n",
    "\n",
    "- Scripts in COnfig file \n",
    "\n",
    "\n",
    "\n",
    "- SQL in code \n",
    "\n",
    "  config file "
   ]
  },
  {
   "cell_type": "code",
   "execution_count": null,
   "metadata": {},
   "outputs": [],
   "source": [
    "- Case satement in SQL \n",
    "\n",
    "- Python 3.10 "
   ]
  },
  {
   "cell_type": "code",
   "execution_count": 86,
   "metadata": {},
   "outputs": [
    {
     "name": "stdout",
     "output_type": "stream",
     "text": [
      "Negative\n"
     ]
    }
   ],
   "source": [
    "#if a number is positive or negative \n",
    "\n",
    "n = -1 \n",
    "\n",
    "if n > 0:\n",
    "    print(\"Positive\")\n",
    "elif n < 0:\n",
    "    print(\"Negative\")\n",
    "else: \n",
    "    print('Zero')"
   ]
  },
  {
   "cell_type": "code",
   "execution_count": 94,
   "metadata": {},
   "outputs": [
    {
     "name": "stdout",
     "output_type": "stream",
     "text": [
      "Negative\n"
     ]
    }
   ],
   "source": [
    "# 3.10 \n",
    "\n",
    "# Match case statement in Python \n",
    "\n",
    "n = -1 \n",
    "match n:\n",
    "    case n if n>0:\n",
    "        print(\"Positive\")\n",
    "    case n if n<0:\n",
    "        print(\"Negative\")\n",
    "    case _: \n",
    "        print(\"Zero\")"
   ]
  },
  {
   "cell_type": "code",
   "execution_count": 80,
   "metadata": {},
   "outputs": [
    {
     "name": "stdout",
     "output_type": "stream",
     "text": [
      "Python 3.12.4\n"
     ]
    }
   ],
   "source": [
    "!python --version"
   ]
  },
  {
   "cell_type": "code",
   "execution_count": null,
   "metadata": {},
   "outputs": [],
   "source": [
    "- Static \n",
    "- Config "
   ]
  },
  {
   "cell_type": "code",
   "execution_count": 72,
   "metadata": {},
   "outputs": [
    {
     "data": {
      "text/plain": [
       "3"
      ]
     },
     "execution_count": 72,
     "metadata": {},
     "output_type": "execute_result"
    }
   ],
   "source": [
    "1+2"
   ]
  },
  {
   "cell_type": "markdown",
   "metadata": {},
   "source": [
    "```python\n",
    "Syntax:\n",
    "file_handle = open(<filename>, <mode>)\n",
    "```"
   ]
  },
  {
   "cell_type": "code",
   "execution_count": 3,
   "metadata": {},
   "outputs": [
    {
     "data": {
      "text/plain": [
       "'C:\\\\Users\\\\ravis\\\\OneDrive\\\\Desktop\\\\New folder\\\\01 Python-20240919T190442Z-001\\\\01 Python\\\\Class Notebooks'"
      ]
     },
     "execution_count": 3,
     "metadata": {},
     "output_type": "execute_result"
    }
   ],
   "source": [
    "pwd"
   ]
  },
  {
   "cell_type": "code",
   "execution_count": 5,
   "metadata": {},
   "outputs": [],
   "source": [
    "f = open('abc.txt', 'r')"
   ]
  },
  {
   "cell_type": "markdown",
   "metadata": {},
   "source": [
    "<b>Modes:</b><br>\n",
    "<u>Text Modes</u>\n",
    "\n",
    "    r or rt - read mode, if file not exists throws IOError\n",
    "    w or wt - write mode, if file not exists creats new one\n",
    "    a or at - append mode is write mode but starts writing, from the end of the file\n",
    "\n",
    "    r+ or rt+ - read write\n",
    "    w+ or wt+ - write read\n",
    "    a+ or at+ - append read\n",
    "    \n",
    "<u>Binary Modes</u>\n",
    "\n",
    "    rb - Binray read\n",
    "    wb - Binary write\n",
    "    ab - append\n",
    "    rb+ - read and write in binary\n",
    "    wb+ - read and write in binary\n",
    "    ab+ - read and append in binary"
   ]
  },
  {
   "cell_type": "code",
   "execution_count": null,
   "metadata": {
    "collapsed": true,
    "jupyter": {
     "outputs_hidden": true
    }
   },
   "outputs": [],
   "source": [
    "# Files - regular files"
   ]
  },
  {
   "cell_type": "markdown",
   "metadata": {},
   "source": [
    "# Text Files"
   ]
  },
  {
   "cell_type": "code",
   "execution_count": 7,
   "metadata": {},
   "outputs": [
    {
     "data": {
      "text/plain": [
       "'C:\\\\Users\\\\ravis\\\\OneDrive\\\\Desktop\\\\New folder\\\\01 Python-20240919T190442Z-001\\\\01 Python\\\\Class Notebooks'"
      ]
     },
     "execution_count": 7,
     "metadata": {},
     "output_type": "execute_result"
    }
   ],
   "source": [
    "import os\n",
    "os.getcwd()"
   ]
  },
  {
   "cell_type": "code",
   "execution_count": 9,
   "metadata": {},
   "outputs": [
    {
     "data": {
      "text/plain": [
       "'C:\\\\Users\\\\ravis\\\\OneDrive\\\\Desktop\\\\New folder\\\\01 Python-20240919T190442Z-001\\\\01 Python\\\\Class Notebooks'"
      ]
     },
     "execution_count": 9,
     "metadata": {},
     "output_type": "execute_result"
    }
   ],
   "source": [
    "pwd"
   ]
  },
  {
   "cell_type": "code",
   "execution_count": 11,
   "metadata": {},
   "outputs": [],
   "source": [
    "#os.chdir('C:\\\\Users\\\\syeruva4\\\\Desktop\\\\Python Classes\\\\myfile.txt')\n",
    "#os.chdir('/Users/subbareddyyeruva/Desktop/Python Classes')"
   ]
  },
  {
   "cell_type": "code",
   "execution_count": 13,
   "metadata": {},
   "outputs": [],
   "source": [
    "# f is a file handle.\n",
    "f = open('abc.txt')"
   ]
  },
  {
   "cell_type": "code",
   "execution_count": 15,
   "metadata": {},
   "outputs": [
    {
     "name": "stdout",
     "output_type": "stream",
     "text": [
      "<class '_io.TextIOWrapper'>\n",
      "<_io.TextIOWrapper name='abc.txt' mode='r' encoding='cp1252'>\n"
     ]
    }
   ],
   "source": [
    "print (type(f))\n",
    "print (f)"
   ]
  },
  {
   "cell_type": "code",
   "execution_count": null,
   "metadata": {
    "collapsed": true,
    "jupyter": {
     "outputs_hidden": true
    }
   },
   "outputs": [],
   "source": [
    "# modes\n",
    "# r -> read the file.\n",
    "# w -> write into the file.\n",
    "# NOTE: if file exists w overwrites a file and if it doesnt exit it will create it.\n",
    "# a -> append. Appending the data to the file.\n",
    "# b -> binary.\n",
    "# rb,wb,ab\n",
    "# r+ -> Read and write into same file"
   ]
  },
  {
   "cell_type": "code",
   "execution_count": 17,
   "metadata": {},
   "outputs": [
    {
     "name": "stdout",
     "output_type": "stream",
     "text": [
      "['_CHUNK_SIZE', '__class__', '__del__', '__delattr__', '__dict__', '__dir__', '__doc__', '__enter__', '__eq__', '__exit__', '__format__', '__ge__', '__getattribute__', '__getstate__', '__gt__', '__hash__', '__init__', '__init_subclass__', '__iter__', '__le__', '__lt__', '__module__', '__ne__', '__new__', '__next__', '__reduce__', '__reduce_ex__', '__repr__', '__setattr__', '__sizeof__', '__str__', '__subclasshook__', '_checkClosed', '_checkReadable', '_checkSeekable', '_checkWritable', '_finalizing', 'buffer', 'close', 'closed', 'detach', 'encoding', 'errors', 'fileno', 'flush', 'isatty', 'line_buffering', 'mode', 'name', 'newlines', 'read', 'readable', 'readline', 'readlines', 'reconfigure', 'seek', 'seekable', 'tell', 'truncate', 'writable', 'write', 'write_through', 'writelines']\n"
     ]
    }
   ],
   "source": [
    "print (dir(f))"
   ]
  },
  {
   "cell_type": "code",
   "execution_count": 19,
   "metadata": {},
   "outputs": [
    {
     "name": "stdout",
     "output_type": "stream",
     "text": [
      "Help on built-in function read:\n",
      "\n",
      "read(size=-1, /) method of _io.TextIOWrapper instance\n",
      "    Read at most size characters from stream.\n",
      "\n",
      "    Read from underlying buffer until we have size characters or we hit EOF.\n",
      "    If size is negative or omitted, read until EOF.\n",
      "\n",
      "None\n"
     ]
    }
   ],
   "source": [
    "# reading a file.\n",
    "print (help(f.read))"
   ]
  },
  {
   "cell_type": "code",
   "execution_count": 55,
   "metadata": {},
   "outputs": [
    {
     "data": {
      "text/plain": [
       "0"
      ]
     },
     "execution_count": 55,
     "metadata": {},
     "output_type": "execute_result"
    }
   ],
   "source": [
    "#f.seek(0)"
   ]
  },
  {
   "cell_type": "code",
   "execution_count": 21,
   "metadata": {},
   "outputs": [
    {
     "name": "stdout",
     "output_type": "stream",
     "text": [
      "This i\n"
     ]
    }
   ],
   "source": [
    "print (f.read(6))"
   ]
  },
  {
   "cell_type": "code",
   "execution_count": 23,
   "metadata": {},
   "outputs": [
    {
     "name": "stdout",
     "output_type": "stream",
     "text": [
      "s file reading first program\n",
      "This is second line in program \n",
      "this is 3rd line in program\n"
     ]
    }
   ],
   "source": [
    "print(f.read())"
   ]
  },
  {
   "cell_type": "code",
   "execution_count": 25,
   "metadata": {},
   "outputs": [
    {
     "name": "stdout",
     "output_type": "stream",
     "text": [
      "\n"
     ]
    }
   ],
   "source": [
    "print(f.read())"
   ]
  },
  {
   "cell_type": "code",
   "execution_count": 27,
   "metadata": {},
   "outputs": [
    {
     "name": "stdout",
     "output_type": "stream",
     "text": [
      "Help on built-in function tell:\n",
      "\n",
      "tell() method of _io.TextIOWrapper instance\n",
      "    Return the stream position as an opaque number.\n",
      "\n",
      "    The return value of tell() can be given as input to seek(), to restore a\n",
      "    previous stream position.\n",
      "\n",
      "None\n"
     ]
    }
   ],
   "source": [
    "# f.tell -> Current Position\n",
    "print (help(f.tell))"
   ]
  },
  {
   "cell_type": "code",
   "execution_count": 29,
   "metadata": {},
   "outputs": [
    {
     "name": "stdout",
     "output_type": "stream",
     "text": [
      "96\n"
     ]
    }
   ],
   "source": [
    "print (f.tell())"
   ]
  },
  {
   "cell_type": "code",
   "execution_count": 31,
   "metadata": {},
   "outputs": [
    {
     "name": "stdout",
     "output_type": "stream",
     "text": [
      "Help on built-in function seek:\n",
      "\n",
      "seek(cookie, whence=0, /) method of _io.TextIOWrapper instance\n",
      "    Set the stream position, and return the new stream position.\n",
      "\n",
      "      cookie\n",
      "        Zero or an opaque number returned by tell().\n",
      "      whence\n",
      "        The relative position to seek from.\n",
      "\n",
      "    Four operations are supported, given by the following argument\n",
      "    combinations:\n",
      "\n",
      "    - seek(0, SEEK_SET): Rewind to the start of the stream.\n",
      "    - seek(cookie, SEEK_SET): Restore a previous position;\n",
      "      'cookie' must be a number returned by tell().\n",
      "    - seek(0, SEEK_END): Fast-forward to the end of the stream.\n",
      "    - seek(0, SEEK_CUR): Leave the current stream position unchanged.\n",
      "\n",
      "    Any other argument combinations are invalid,\n",
      "    and may raise exceptions.\n",
      "\n",
      "None\n"
     ]
    }
   ],
   "source": [
    "# f.seek --> New absolute position\n",
    "print (help(f.seek))\n"
   ]
  },
  {
   "cell_type": "code",
   "execution_count": 33,
   "metadata": {},
   "outputs": [
    {
     "name": "stdout",
     "output_type": "stream",
     "text": [
      "0\n"
     ]
    }
   ],
   "source": [
    "print (f.seek(0))\n"
   ]
  },
  {
   "cell_type": "code",
   "execution_count": 35,
   "metadata": {},
   "outputs": [
    {
     "name": "stdout",
     "output_type": "stream",
     "text": [
      "0\n"
     ]
    }
   ],
   "source": [
    "print (f.tell())"
   ]
  },
  {
   "cell_type": "code",
   "execution_count": 37,
   "metadata": {},
   "outputs": [
    {
     "name": "stdout",
     "output_type": "stream",
     "text": [
      "This is file reading first program\n",
      "This is second line in program \n",
      "this is 3rd line in program\n"
     ]
    }
   ],
   "source": [
    "print(f.read())"
   ]
  },
  {
   "cell_type": "code",
   "execution_count": 39,
   "metadata": {},
   "outputs": [
    {
     "name": "stdout",
     "output_type": "stream",
     "text": [
      "Help on built-in function readline:\n",
      "\n",
      "readline(size=-1, /) method of _io.TextIOWrapper instance\n",
      "    Read until newline or EOF.\n",
      "\n",
      "    Return an empty string if EOF is hit immediately.\n",
      "    If size is specified, at most size characters will be read.\n",
      "\n",
      "None\n"
     ]
    }
   ],
   "source": [
    "# f.readline\n",
    "print (help(f.readline))"
   ]
  },
  {
   "cell_type": "code",
   "execution_count": 41,
   "metadata": {},
   "outputs": [
    {
     "name": "stdout",
     "output_type": "stream",
     "text": [
      "Th\n"
     ]
    }
   ],
   "source": [
    "f.seek(0)\n",
    "print (f.readline(2))"
   ]
  },
  {
   "cell_type": "code",
   "execution_count": 43,
   "metadata": {},
   "outputs": [
    {
     "name": "stdout",
     "output_type": "stream",
     "text": [
      "Help on built-in function readlines:\n",
      "\n",
      "readlines(hint=-1, /) method of _io.TextIOWrapper instance\n",
      "    Return a list of lines from the stream.\n",
      "\n",
      "    hint can be specified to control the number of lines read: no more\n",
      "    lines will be read if the total size (in bytes/characters) of all\n",
      "    lines so far exceeds hint.\n",
      "\n",
      "None\n"
     ]
    }
   ],
   "source": [
    "# f.readlines\n",
    "print (help(f.readlines))"
   ]
  },
  {
   "cell_type": "code",
   "execution_count": 45,
   "metadata": {},
   "outputs": [],
   "source": [
    "f.seek(0)\n",
    "my_strings = f.readlines()"
   ]
  },
  {
   "cell_type": "code",
   "execution_count": 47,
   "metadata": {},
   "outputs": [
    {
     "data": {
      "text/plain": [
       "['This is file reading first program\\n',\n",
       " 'This is second line in program \\n',\n",
       " 'this is 3rd line in program']"
      ]
     },
     "execution_count": 47,
     "metadata": {},
     "output_type": "execute_result"
    }
   ],
   "source": [
    "my_strings"
   ]
  },
  {
   "cell_type": "code",
   "execution_count": null,
   "metadata": {},
   "outputs": [],
   "source": [
    "# f.readinto\n",
    "#print (help(f.readinto))\n",
    "# f.xreadlines\n",
    "#print (help(f.xreadlines))"
   ]
  },
  {
   "cell_type": "code",
   "execution_count": 49,
   "metadata": {},
   "outputs": [],
   "source": [
    "g = open('myfile1.txt','w')"
   ]
  },
  {
   "cell_type": "code",
   "execution_count": 51,
   "metadata": {},
   "outputs": [
    {
     "data": {
      "text/plain": [
       "87"
      ]
     },
     "execution_count": 51,
     "metadata": {},
     "output_type": "execute_result"
    }
   ],
   "source": [
    "# g.write\n",
    "g.write(\"This is my 1st line.\\nThis is my 2nd line.\\nThis is my 3rd line.\\nThis is my fourth line.\\n\")"
   ]
  },
  {
   "cell_type": "code",
   "execution_count": 53,
   "metadata": {},
   "outputs": [
    {
     "name": "stdout",
     "output_type": "stream",
     "text": [
      "Help on built-in function flush:\n",
      "\n",
      "flush() method of _io.TextIOWrapper instance\n",
      "    Flush write buffers, if applicable.\n",
      "\n",
      "    This is not implemented for read-only and non-blocking streams.\n",
      "\n",
      "None\n",
      "Help on built-in function close:\n",
      "\n",
      "close() method of _io.TextIOWrapper instance\n",
      "    Flush and close the IO object.\n",
      "\n",
      "    This method has no effect if the file is already closed.\n",
      "\n",
      "None\n"
     ]
    }
   ],
   "source": [
    "# flush\n",
    "print (help(g.flush))\n",
    "# close\n",
    "print (help(g.close))"
   ]
  },
  {
   "cell_type": "raw",
   "metadata": {},
   "source": [
    "input devices -> buffer -> cpu -> buffer -> output devices"
   ]
  },
  {
   "cell_type": "code",
   "execution_count": 55,
   "metadata": {},
   "outputs": [],
   "source": [
    "g.flush()"
   ]
  },
  {
   "cell_type": "code",
   "execution_count": 44,
   "metadata": {},
   "outputs": [
    {
     "name": "stdout",
     "output_type": "stream",
     "text": [
      "Help on built-in function flush:\n",
      "\n",
      "flush() method of _io.TextIOWrapper instance\n",
      "    Flush write buffers, if applicable.\n",
      "    \n",
      "    This is not implemented for read-only and non-blocking streams.\n",
      "\n"
     ]
    }
   ],
   "source": [
    "help(g.flush)"
   ]
  },
  {
   "cell_type": "code",
   "execution_count": 57,
   "metadata": {},
   "outputs": [
    {
     "data": {
      "text/plain": [
       "<_io.TextIOWrapper name='myfile1.txt' mode='w' encoding='cp1252'>"
      ]
     },
     "execution_count": 57,
     "metadata": {},
     "output_type": "execute_result"
    }
   ],
   "source": [
    "g"
   ]
  },
  {
   "cell_type": "code",
   "execution_count": 59,
   "metadata": {},
   "outputs": [],
   "source": [
    "g.close()\n"
   ]
  },
  {
   "cell_type": "code",
   "execution_count": 61,
   "metadata": {},
   "outputs": [
    {
     "data": {
      "text/plain": [
       "<_io.TextIOWrapper name='myfile1.txt' mode='w' encoding='cp1252'>"
      ]
     },
     "execution_count": 61,
     "metadata": {},
     "output_type": "execute_result"
    }
   ],
   "source": [
    "g"
   ]
  },
  {
   "cell_type": "code",
   "execution_count": 63,
   "metadata": {},
   "outputs": [
    {
     "name": "stdout",
     "output_type": "stream",
     "text": [
      "True\n"
     ]
    }
   ],
   "source": [
    "# closed\n",
    "print (g.closed)"
   ]
  },
  {
   "cell_type": "code",
   "execution_count": 65,
   "metadata": {},
   "outputs": [
    {
     "ename": "ValueError",
     "evalue": "I/O operation on closed file.",
     "output_type": "error",
     "traceback": [
      "\u001b[1;31m---------------------------------------------------------------------------\u001b[0m",
      "\u001b[1;31mValueError\u001b[0m                                Traceback (most recent call last)",
      "Cell \u001b[1;32mIn[65], line 1\u001b[0m\n\u001b[1;32m----> 1\u001b[0m g\u001b[38;5;241m.\u001b[39mwrite(\u001b[38;5;124m\"\u001b[39m\u001b[38;5;124mhey i am writing into the file.\u001b[39m\u001b[38;5;124m\"\u001b[39m)\n",
      "\u001b[1;31mValueError\u001b[0m: I/O operation on closed file."
     ]
    }
   ],
   "source": [
    "g.write(\"hey i am writing into the file.\")"
   ]
  },
  {
   "cell_type": "code",
   "execution_count": 28,
   "metadata": {},
   "outputs": [
    {
     "name": "stdout",
     "output_type": "stream",
     "text": [
      "the file is closed\n"
     ]
    }
   ],
   "source": [
    "# conditional flow\n",
    "if g.closed:\n",
    "    print (\"the file is closed\")\n",
    "else:\n",
    "    print (g.write(\"hey i am writing into the file.\"))"
   ]
  },
  {
   "cell_type": "code",
   "execution_count": 72,
   "metadata": {},
   "outputs": [
    {
     "name": "stdout",
     "output_type": "stream",
     "text": [
      "Sorry!! the files is closed.\n"
     ]
    }
   ],
   "source": [
    "# Exceptions\n",
    "try:\n",
    "    g.write(\"hey i am writing into the file.\")\n",
    "except ValueError:\n",
    "    print (\"Sorry!! the files is closed.\")\n",
    "else:\n",
    "    g.write(\"hey i am writing into the file.\")\n",
    "finally:\n",
    "    g.close()"
   ]
  },
  {
   "cell_type": "code",
   "execution_count": 50,
   "metadata": {},
   "outputs": [
    {
     "data": {
      "text/plain": [
       "'/Users/subbareddyyeruva/Desktop/Python Classes'"
      ]
     },
     "execution_count": 50,
     "metadata": {},
     "output_type": "execute_result"
    }
   ],
   "source": [
    "pwd"
   ]
  },
  {
   "cell_type": "code",
   "execution_count": 29,
   "metadata": {
    "collapsed": true,
    "jupyter": {
     "outputs_hidden": true
    }
   },
   "outputs": [],
   "source": [
    "# with\n",
    "with open('myfile1.txt','a') as h:\n",
    "    h.write(\"hey i am writing into the file.\")"
   ]
  },
  {
   "cell_type": "code",
   "execution_count": 30,
   "metadata": {},
   "outputs": [
    {
     "name": "stdout",
     "output_type": "stream",
     "text": [
      "<_io.TextIOWrapper name='myfile1.txt' mode='a' encoding='cp1252'>\n"
     ]
    }
   ],
   "source": [
    "print (h)"
   ]
  },
  {
   "cell_type": "code",
   "execution_count": 51,
   "metadata": {},
   "outputs": [
    {
     "name": "stdout",
     "output_type": "stream",
     "text": [
      "['first line \\n', 'second line \\n', 'third line\\n', '4th line ']\n"
     ]
    }
   ],
   "source": [
    "# g.writelines\n",
    "print (my_strings)\n",
    "h = open('myfile1.txt','a')\n",
    "h.writelines(my_strings)"
   ]
  },
  {
   "cell_type": "code",
   "execution_count": 52,
   "metadata": {},
   "outputs": [
    {
     "data": {
      "text/plain": [
       "['first line \\n', 'second line \\n', 'third line\\n', '4th line ']"
      ]
     },
     "execution_count": 52,
     "metadata": {},
     "output_type": "execute_result"
    }
   ],
   "source": [
    "my_strings"
   ]
  },
  {
   "cell_type": "code",
   "execution_count": 53,
   "metadata": {},
   "outputs": [
    {
     "data": {
      "text/plain": [
       "<function TextIOWrapper.close()>"
      ]
     },
     "execution_count": 53,
     "metadata": {},
     "output_type": "execute_result"
    }
   ],
   "source": [
    "h.close"
   ]
  },
  {
   "cell_type": "code",
   "execution_count": 54,
   "metadata": {},
   "outputs": [],
   "source": [
    "# f.next()   --> to read the file line by line \n",
    "# EOF ?   --> exception = StopIteration: "
   ]
  },
  {
   "cell_type": "code",
   "execution_count": 107,
   "metadata": {},
   "outputs": [
    {
     "data": {
      "text/plain": [
       "'C:\\\\Users\\\\ravis\\\\OneDrive\\\\Desktop\\\\New folder\\\\01 Python-20240919T190442Z-001\\\\01 Python\\\\Class Notebooks'"
      ]
     },
     "execution_count": 107,
     "metadata": {},
     "output_type": "execute_result"
    }
   ],
   "source": [
    "pwd"
   ]
  },
  {
   "cell_type": "code",
   "execution_count": 55,
   "metadata": {},
   "outputs": [
    {
     "name": "stdout",
     "output_type": "stream",
     "text": [
      "Days of the Week\n",
      "\n",
      "line1\n",
      "line2 \n",
      "line3 \n"
     ]
    }
   ],
   "source": [
    "path = '/Users/subbareddyyeruva/Desktop/Python Classes/myfile.txt'\n",
    "\n",
    "\n",
    "\n",
    "days_file = open(path,'r')\n",
    "days = days_file.read()\n",
    "\n",
    "\n",
    "new_path = '/Users/subbareddyyeruva/Desktop/Python Classes/new_days.txt'\n",
    "new_days = open(new_path,'w')\n",
    "\n",
    "title = 'Days of the Week\\n'\n",
    "new_days.write(title)\n",
    "print(title)\n",
    "\n",
    "new_days.write(days)\n",
    "print(days)\n",
    "\n",
    "days_file.close()\n",
    "new_days.close()"
   ]
  },
  {
   "cell_type": "code",
   "execution_count": null,
   "metadata": {
    "collapsed": true,
    "jupyter": {
     "outputs_hidden": true
    }
   },
   "outputs": [],
   "source": [
    "# If would like to update the file based on some criteria then how you do it ?\n",
    "# There are many options "
   ]
  },
  {
   "cell_type": "markdown",
   "metadata": {},
   "source": [
    "# CSV files"
   ]
  },
  {
   "cell_type": "code",
   "execution_count": 56,
   "metadata": {},
   "outputs": [
    {
     "data": {
      "text/html": [
       "<div>\n",
       "<style scoped>\n",
       "    .dataframe tbody tr th:only-of-type {\n",
       "        vertical-align: middle;\n",
       "    }\n",
       "\n",
       "    .dataframe tbody tr th {\n",
       "        vertical-align: top;\n",
       "    }\n",
       "\n",
       "    .dataframe thead th {\n",
       "        text-align: right;\n",
       "    }\n",
       "</style>\n",
       "<table border=\"1\" class=\"dataframe\">\n",
       "  <thead>\n",
       "    <tr style=\"text-align: right;\">\n",
       "      <th></th>\n",
       "      <th>0</th>\n",
       "      <th>1</th>\n",
       "      <th>2</th>\n",
       "    </tr>\n",
       "  </thead>\n",
       "  <tbody>\n",
       "    <tr>\n",
       "      <th>0</th>\n",
       "      <td>Bharat</td>\n",
       "      <td>1</td>\n",
       "      <td>abc@gmail.com</td>\n",
       "    </tr>\n",
       "    <tr>\n",
       "      <th>1</th>\n",
       "      <td>venu</td>\n",
       "      <td>2</td>\n",
       "      <td>abc1@gmail.com</td>\n",
       "    </tr>\n",
       "    <tr>\n",
       "      <th>2</th>\n",
       "      <td>sandeep</td>\n",
       "      <td>3</td>\n",
       "      <td>abc2@gmail.com</td>\n",
       "    </tr>\n",
       "    <tr>\n",
       "      <th>3</th>\n",
       "      <td>karthik</td>\n",
       "      <td>4</td>\n",
       "      <td>abc3@gmail.com</td>\n",
       "    </tr>\n",
       "    <tr>\n",
       "      <th>4</th>\n",
       "      <td>narasimha</td>\n",
       "      <td>5</td>\n",
       "      <td>abc4@gmail.com</td>\n",
       "    </tr>\n",
       "  </tbody>\n",
       "</table>\n",
       "</div>"
      ],
      "text/plain": [
       "           0  1               2\n",
       "0     Bharat  1   abc@gmail.com\n",
       "1       venu  2  abc1@gmail.com\n",
       "2    sandeep  3  abc2@gmail.com\n",
       "3    karthik  4  abc3@gmail.com\n",
       "4  narasimha  5  abc4@gmail.com"
      ]
     },
     "execution_count": 56,
     "metadata": {},
     "output_type": "execute_result"
    }
   ],
   "source": [
    "import pandas as pd\n",
    "\n",
    "df = pd.read_csv('attendees.csv',header=None)\n",
    "df"
   ]
  },
  {
   "cell_type": "code",
   "execution_count": 58,
   "metadata": {},
   "outputs": [
    {
     "name": "stdout",
     "output_type": "stream",
     "text": [
      "Object `pd.read` not found.\n"
     ]
    }
   ],
   "source": [
    "pd.read?"
   ]
  },
  {
   "cell_type": "code",
   "execution_count": 59,
   "metadata": {},
   "outputs": [
    {
     "name": "stdout",
     "output_type": "stream",
     "text": [
      "['Bharat', '1', 'abc@gmail.com']\n",
      "['venu', '2', 'abc1@gmail.com']\n",
      "['sandeep', '3', 'abc2@gmail.com']\n",
      "['karthik', '4', 'abc3@gmail.com']\n",
      "['narasimha', '5', 'abc4@gmail.com']\n"
     ]
    }
   ],
   "source": [
    "import csv\n",
    "\n",
    "f = open('attendees.csv')\n",
    "csv_f = csv.reader(f)\n",
    "\n",
    "for row in csv_f:\n",
    "      print (row)"
   ]
  },
  {
   "cell_type": "code",
   "execution_count": 60,
   "metadata": {},
   "outputs": [
    {
     "name": "stdout",
     "output_type": "stream",
     "text": [
      "abc@gmail.com\n",
      "abc1@gmail.com\n",
      "abc2@gmail.com\n",
      "abc3@gmail.com\n",
      "abc4@gmail.com\n"
     ]
    }
   ],
   "source": [
    "import csv\n",
    "\n",
    "f = open('attendees.csv')\n",
    "csv_f = csv.reader(f)\n",
    "\n",
    "for row in csv_f:\n",
    "      print (row[2])"
   ]
  },
  {
   "cell_type": "code",
   "execution_count": 61,
   "metadata": {},
   "outputs": [
    {
     "name": "stdout",
     "output_type": "stream",
     "text": [
      "['abc@gmail.com', 'abc1@gmail.com', 'abc2@gmail.com', 'abc3@gmail.com', 'abc4@gmail.com']\n"
     ]
    }
   ],
   "source": [
    "\n",
    "f = open('attendees.csv')\n",
    "csv_f = csv.reader(f)\n",
    "\n",
    "attendee_emails = []\n",
    "\n",
    "for row in csv_f:\n",
    "      attendee_emails.append(row[2])\n",
    "\n",
    "print (attendee_emails)\n"
   ]
  },
  {
   "cell_type": "code",
   "execution_count": 62,
   "metadata": {},
   "outputs": [
    {
     "name": "stdout",
     "output_type": "stream",
     "text": [
      "{'abc5@gmail.com', 'abc6@gmail.com'}\n"
     ]
    }
   ],
   "source": [
    "f = open('attendees.csv')\n",
    "csv_f = csv.reader(f)\n",
    "\n",
    "attendee_emails1 = []\n",
    "\n",
    "for row in csv_f:\n",
    "      attendee_emails1.append(row[2])\n",
    "\n",
    "\n",
    "f = open('attendees2.csv')\n",
    "csv_f = csv.reader(f)\n",
    "\n",
    "attendee_emails2 = []\n",
    "\n",
    "for row in csv_f:\n",
    "      attendee_emails2.append(row[2])\n",
    "\n",
    "attendee_emails11 = set(attendee_emails1)\n",
    "attendee_emails22 = set(attendee_emails2)\n",
    "\n",
    "second_year_attendees = attendee_emails22.difference(attendee_emails11)   # B - A\n",
    "\n",
    "print (second_year_attendees)\n"
   ]
  },
  {
   "cell_type": "code",
   "execution_count": 64,
   "metadata": {},
   "outputs": [
    {
     "name": "stdout",
     "output_type": "stream",
     "text": [
      "Title 1,Title 2,Title 3\n",
      "1,a,10/01/23\n",
      "2,b,10/02/23\n",
      "3,c,10/03/23\n",
      "4,d,10/04/23\n",
      "5,e,10/05/23\n",
      "6,f,10/06/23\n",
      "7,g,10/07/23\n",
      "8,h,10/08/23\n",
      "9,i,10/09/23\n",
      "10,j,10/10/23\n",
      "\n"
     ]
    }
   ],
   "source": [
    "import csv\n",
    "import sys\n",
    "\n",
    "f = open(\"dummy.csv\", 'wt')\n",
    "try:\n",
    "    writer = csv.writer(f)\n",
    "    writer.writerow( ('Title 1', 'Title 2', 'Title 3') )\n",
    "    for i in range(10):\n",
    "        writer.writerow( (i+1, chr(ord('a') + i), '10/%02d/23' % (i+1)) )\n",
    "finally:\n",
    "    f.close()\n",
    "\n",
    "print (open(\"dummy.csv\", 'rt').read())"
   ]
  },
  {
   "cell_type": "code",
   "execution_count": 65,
   "metadata": {},
   "outputs": [
    {
     "name": "stdout",
     "output_type": "stream",
     "text": [
      "Title 1|Title 2|Title 3\n",
      "1|a|08/01/07\n",
      "2|b|08/02/07\n",
      "3|c|08/03/07\n",
      "4|d|08/04/07\n",
      "5|e|08/05/07\n",
      "6|f|08/06/07\n",
      "7|g|08/07/07\n",
      "8|h|08/08/07\n",
      "9|i|08/09/07\n",
      "10|j|08/10/07\n",
      "\n"
     ]
    }
   ],
   "source": [
    "        \n",
    "import csv\n",
    "import sys\n",
    "\n",
    "#csv.register_dialect('pipes', delimiter='|')\n",
    "\n",
    "f = open(\"dummy1.csv\", 'wt')\n",
    "\n",
    "try:\n",
    "    writer = csv.writer(f,delimiter=\"|\")\n",
    "    writer.writerow( ('Title 1', 'Title 2', 'Title 3') )\n",
    "    \n",
    "    for i in range(10):\n",
    "              writer.writerow( (i+1, chr(ord('a') + i), '08/%02d/07' % (i+1)) )     \n",
    "finally:\n",
    "    f.close()\n",
    "\n",
    "print (open(\"dummy1.csv\", 'rt').read())"
   ]
  },
  {
   "cell_type": "markdown",
   "metadata": {},
   "source": [
    "# SAS files Handling"
   ]
  },
  {
   "cell_type": "code",
   "execution_count": null,
   "metadata": {},
   "outputs": [],
   "source": [
    "#!pip install sas7bdat    # to install sas7bdat\n",
    "import sas7bdat\n",
    "from sas7bdat import *\n",
    "\n",
    "# To convert a SAS file in to a text file"
   ]
  },
  {
   "cell_type": "code",
   "execution_count": null,
   "metadata": {},
   "outputs": [],
   "source": [
    "data = SAS7BDAT('a120926s1d.sas7bdat')"
   ]
  },
  {
   "cell_type": "code",
   "execution_count": null,
   "metadata": {},
   "outputs": [],
   "source": []
  },
  {
   "cell_type": "code",
   "execution_count": null,
   "metadata": {},
   "outputs": [],
   "source": [
    "data.convert_file('sas_data.txt','\\t')"
   ]
  },
  {
   "cell_type": "code",
   "execution_count": null,
   "metadata": {
    "collapsed": true,
    "jupyter": {
     "outputs_hidden": true
    }
   },
   "outputs": [],
   "source": [
    "sf = open('sas_data.txt')\n",
    "print (sf.read())\n",
    "sf.seek(0)"
   ]
  },
  {
   "cell_type": "code",
   "execution_count": null,
   "metadata": {
    "collapsed": true,
    "jupyter": {
     "outputs_hidden": true
    }
   },
   "outputs": [],
   "source": [
    "print(sf.readline())"
   ]
  },
  {
   "cell_type": "code",
   "execution_count": null,
   "metadata": {
    "collapsed": true,
    "jupyter": {
     "outputs_hidden": true
    }
   },
   "outputs": [],
   "source": [
    "with SAS7BDAT('a120926s1d.sas7bdat') as f:\n",
    "    for row in f:\n",
    "        print (row)\n",
    "    f.seek(0)"
   ]
  },
  {
   "cell_type": "code",
   "execution_count": null,
   "metadata": {
    "collapsed": true,
    "jupyter": {
     "outputs_hidden": true
    }
   },
   "outputs": [],
   "source": [
    "# Introducing Pandas for undersanding purpose of data only\n",
    "import pandas as pd"
   ]
  },
  {
   "cell_type": "code",
   "execution_count": null,
   "metadata": {},
   "outputs": [],
   "source": [
    "with SAS7BDAT('a120926s1d.sas7bdat') as g:\n",
    "    df = g.to_data_frame()   #to data frame conversion "
   ]
  },
  {
   "cell_type": "code",
   "execution_count": null,
   "metadata": {
    "collapsed": true,
    "jupyter": {
     "outputs_hidden": true
    }
   },
   "outputs": [],
   "source": [
    "df.head(5)"
   ]
  },
  {
   "cell_type": "code",
   "execution_count": null,
   "metadata": {
    "collapsed": true,
    "jupyter": {
     "outputs_hidden": true
    }
   },
   "outputs": [],
   "source": [
    "df.dtypes"
   ]
  },
  {
   "cell_type": "code",
   "execution_count": null,
   "metadata": {},
   "outputs": [],
   "source": [
    "#import pandas as pd\n",
    "\n",
    "#data = pd.read_sas('a120926s1d.sas7bdat')\n",
    "#pd.DataFrame.to_csv(data, 'sastocsv_file.csv')"
   ]
  },
  {
   "cell_type": "code",
   "execution_count": null,
   "metadata": {
    "collapsed": true,
    "jupyter": {
     "outputs_hidden": true
    }
   },
   "outputs": [],
   "source": [
    "# XML Data \n",
    "# How about the package BeautifulSoup    \n",
    "# At this stage i don't want to take this up as part of processing the data"
   ]
  },
  {
   "cell_type": "markdown",
   "metadata": {},
   "source": [
    "# Database Connection"
   ]
  },
  {
   "cell_type": "code",
   "execution_count": null,
   "metadata": {
    "collapsed": true,
    "jupyter": {
     "outputs_hidden": true
    }
   },
   "outputs": [],
   "source": [
    "# Please note that below commands are for illustration purpose only "
   ]
  },
  {
   "cell_type": "code",
   "execution_count": 8,
   "metadata": {},
   "outputs": [
    {
     "name": "stdout",
     "output_type": "stream",
     "text": [
      "Collecting mysql-connector-python\n",
      "  Downloading mysql_connector_python-8.2.0-py2.py3-none-any.whl (593 kB)\n",
      "\u001b[K     |████████████████████████████████| 593 kB 3.4 MB/s eta 0:00:01\n",
      "\u001b[?25hCollecting protobuf<=4.21.12,>=4.21.1\n",
      "  Downloading protobuf-4.21.12-cp37-abi3-macosx_10_9_universal2.whl (486 kB)\n",
      "\u001b[K     |████████████████████████████████| 486 kB 60.6 MB/s eta 0:00:01\n",
      "\u001b[?25hInstalling collected packages: protobuf, mysql-connector-python\n",
      "Successfully installed mysql-connector-python-8.2.0 protobuf-4.21.12\n"
     ]
    }
   ],
   "source": [
    "!pip install mysql-connector-python"
   ]
  },
  {
   "cell_type": "code",
   "execution_count": 9,
   "metadata": {},
   "outputs": [],
   "source": [
    "import mysql.connector"
   ]
  },
  {
   "cell_type": "code",
   "execution_count": 12,
   "metadata": {},
   "outputs": [],
   "source": [
    "cnx = mysql.connector.connect(user='root', password='INDIA2newyork',\n",
    "                              host='127.0.0.1',\n",
    "                              database='employees')\n",
    "#cnx.close()"
   ]
  },
  {
   "cell_type": "code",
   "execution_count": 14,
   "metadata": {},
   "outputs": [
    {
     "name": "stdout",
     "output_type": "stream",
     "text": [
      "(10001, datetime.date(1953, 9, 2), 'Georgi', 'Facello', 'M', datetime.date(1986, 6, 26))\n",
      "(10002, datetime.date(1964, 6, 2), 'Bezalel', 'Simmel', 'F', datetime.date(1985, 11, 21))\n",
      "(10003, datetime.date(1959, 12, 3), 'Parto', 'Bamford', 'M', datetime.date(1986, 8, 28))\n",
      "(10004, datetime.date(1954, 5, 1), 'Chirstian', 'Koblick', 'M', datetime.date(1986, 12, 1))\n",
      "(10005, datetime.date(1955, 1, 21), 'Kyoichi', 'Maliniak', 'M', datetime.date(1989, 9, 12))\n"
     ]
    }
   ],
   "source": [
    "#cnx = connect_to_mysql(config, attempts=3)\n",
    "\n",
    "if cnx and cnx.is_connected():\n",
    "\n",
    "    with cnx.cursor() as cursor:\n",
    "\n",
    "        result = cursor.execute(\"SELECT * FROM employees LIMIT 5\")\n",
    "\n",
    "        rows = cursor.fetchall()\n",
    "\n",
    "        for rows in rows:\n",
    "\n",
    "            print(rows)\n",
    "\n",
    "    cnx.close()\n",
    "\n",
    "else:\n",
    "\n",
    "    print(\"Could not connect\")"
   ]
  },
  {
   "cell_type": "code",
   "execution_count": 15,
   "metadata": {},
   "outputs": [],
   "source": [
    "import pandas as pd"
   ]
  },
  {
   "cell_type": "code",
   "execution_count": 16,
   "metadata": {},
   "outputs": [],
   "source": [
    "cnx = mysql.connector.connect(user='root', password='INDIA2newyork',\n",
    "                              host='127.0.0.1',\n",
    "                              database='employees')"
   ]
  },
  {
   "cell_type": "code",
   "execution_count": 17,
   "metadata": {},
   "outputs": [],
   "source": [
    "data = pd.read_sql_query('SELECT * FROM employees LIMIT 5;', cnx)"
   ]
  },
  {
   "cell_type": "code",
   "execution_count": 18,
   "metadata": {},
   "outputs": [
    {
     "data": {
      "text/html": [
       "<div>\n",
       "<style scoped>\n",
       "    .dataframe tbody tr th:only-of-type {\n",
       "        vertical-align: middle;\n",
       "    }\n",
       "\n",
       "    .dataframe tbody tr th {\n",
       "        vertical-align: top;\n",
       "    }\n",
       "\n",
       "    .dataframe thead th {\n",
       "        text-align: right;\n",
       "    }\n",
       "</style>\n",
       "<table border=\"1\" class=\"dataframe\">\n",
       "  <thead>\n",
       "    <tr style=\"text-align: right;\">\n",
       "      <th></th>\n",
       "      <th>emp_no</th>\n",
       "      <th>birth_date</th>\n",
       "      <th>first_name</th>\n",
       "      <th>last_name</th>\n",
       "      <th>gender</th>\n",
       "      <th>hire_date</th>\n",
       "    </tr>\n",
       "  </thead>\n",
       "  <tbody>\n",
       "    <tr>\n",
       "      <th>0</th>\n",
       "      <td>10001</td>\n",
       "      <td>1953-09-02</td>\n",
       "      <td>Georgi</td>\n",
       "      <td>Facello</td>\n",
       "      <td>M</td>\n",
       "      <td>1986-06-26</td>\n",
       "    </tr>\n",
       "    <tr>\n",
       "      <th>1</th>\n",
       "      <td>10002</td>\n",
       "      <td>1964-06-02</td>\n",
       "      <td>Bezalel</td>\n",
       "      <td>Simmel</td>\n",
       "      <td>F</td>\n",
       "      <td>1985-11-21</td>\n",
       "    </tr>\n",
       "    <tr>\n",
       "      <th>2</th>\n",
       "      <td>10003</td>\n",
       "      <td>1959-12-03</td>\n",
       "      <td>Parto</td>\n",
       "      <td>Bamford</td>\n",
       "      <td>M</td>\n",
       "      <td>1986-08-28</td>\n",
       "    </tr>\n",
       "    <tr>\n",
       "      <th>3</th>\n",
       "      <td>10004</td>\n",
       "      <td>1954-05-01</td>\n",
       "      <td>Chirstian</td>\n",
       "      <td>Koblick</td>\n",
       "      <td>M</td>\n",
       "      <td>1986-12-01</td>\n",
       "    </tr>\n",
       "    <tr>\n",
       "      <th>4</th>\n",
       "      <td>10005</td>\n",
       "      <td>1955-01-21</td>\n",
       "      <td>Kyoichi</td>\n",
       "      <td>Maliniak</td>\n",
       "      <td>M</td>\n",
       "      <td>1989-09-12</td>\n",
       "    </tr>\n",
       "  </tbody>\n",
       "</table>\n",
       "</div>"
      ],
      "text/plain": [
       "   emp_no  birth_date first_name last_name gender   hire_date\n",
       "0   10001  1953-09-02     Georgi   Facello      M  1986-06-26\n",
       "1   10002  1964-06-02    Bezalel    Simmel      F  1985-11-21\n",
       "2   10003  1959-12-03      Parto   Bamford      M  1986-08-28\n",
       "3   10004  1954-05-01  Chirstian   Koblick      M  1986-12-01\n",
       "4   10005  1955-01-21    Kyoichi  Maliniak      M  1989-09-12"
      ]
     },
     "execution_count": 18,
     "metadata": {},
     "output_type": "execute_result"
    }
   ],
   "source": [
    "data"
   ]
  },
  {
   "cell_type": "code",
   "execution_count": 19,
   "metadata": {},
   "outputs": [],
   "source": [
    "cnx.close()"
   ]
  },
  {
   "cell_type": "code",
   "execution_count": null,
   "metadata": {},
   "outputs": [],
   "source": []
  }
 ],
 "metadata": {
  "kernelspec": {
   "display_name": "Python 3 (ipykernel)",
   "language": "python",
   "name": "python3"
  },
  "language_info": {
   "codemirror_mode": {
    "name": "ipython",
    "version": 3
   },
   "file_extension": ".py",
   "mimetype": "text/x-python",
   "name": "python",
   "nbconvert_exporter": "python",
   "pygments_lexer": "ipython3",
   "version": "3.12.4"
  }
 },
 "nbformat": 4,
 "nbformat_minor": 4
}
